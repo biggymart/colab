{
  "nbformat": 4,
  "nbformat_minor": 0,
  "metadata": {
    "colab": {
      "name": "warping.ipynb",
      "provenance": [],
      "authorship_tag": "ABX9TyOtvlGIOFO32jDTUUIQ+FZ8",
      "include_colab_link": true
    },
    "kernelspec": {
      "name": "python3",
      "display_name": "Python 3"
    },
    "language_info": {
      "name": "python"
    }
  },
  "cells": [
    {
      "cell_type": "markdown",
      "metadata": {
        "id": "view-in-github",
        "colab_type": "text"
      },
      "source": [
        "<a href=\"https://colab.research.google.com/github/biggymart/colab/blob/main/warping.ipynb\" target=\"_parent\"><img src=\"https://colab.research.google.com/assets/colab-badge.svg\" alt=\"Open In Colab\"/></a>"
      ]
    },
    {
      "cell_type": "markdown",
      "metadata": {
        "id": "-WOA5XsuQdaj"
      },
      "source": [
        "https://www.youtube.com/watch?v=Bg7VU_J23dM&t=1442s\n"
      ]
    },
    {
      "cell_type": "code",
      "metadata": {
        "id": "cvf0O2ihQaDA"
      },
      "source": [
        "import sys\n",
        "import numpy as np\n",
        "import cv2\n",
        "\n",
        "\n",
        "def reorderPts(pts):\n",
        "    idx = np.lexsort((pts[:, 1], pts[:, 0]))  # 칼럼0 -> 칼럼1 순으로 정렬한 인덱스를 반환\n",
        "    pts = pts[idx]  # x좌표로 정렬\n",
        "\n",
        "    if pts[0, 1] > pts[1, 1]:\n",
        "        pts[[0, 1]] = pts[[1, 0]]\n",
        "\n",
        "    if pts[2, 1] < pts[3, 1]:\n",
        "        pts[[2, 3]] = pts[[3, 2]]\n",
        "\n",
        "    return pts\n",
        "\n",
        "\n",
        "# 영상 불러오기\n",
        "filename = 'C:/Users/ai/Desktop/test1.jpg'\n",
        "if len(sys.argv) > 1:\n",
        "    filename = sys.argv[1]\n",
        "\n",
        "src = cv2.imread(filename)\n",
        "\n",
        "if src is None:\n",
        "    print('Image load failed!')\n",
        "    sys.exit()\n",
        "\n",
        "# 출력 영상 설정\n",
        "dw, dh = 720, 400\n",
        "srcQuad = np.array([[0, 0], [0, 0], [0, 0], [0, 0]], np.float32)\n",
        "dstQuad = np.array([[0, 0], [0, dh], [dw, dh], [dw, 0]], np.float32)\n",
        "dst = np.zeros((dh, dw), np.uint8)\n",
        "\n",
        "# 입력 영상 전처리\n",
        "src_gray = cv2.cvtColor(src, cv2.COLOR_BGR2GRAY)\n",
        "th, src_bin = cv2.threshold(src_gray, 0, 255, cv2.THRESH_BINARY | cv2.THRESH_OTSU)\n",
        "\n",
        "# 외곽선 검출 및 명함 검출\n",
        "contours, _ = cv2.findContours(src_bin, cv2.RETR_EXTERNAL, cv2.CHAIN_APPROX_NONE)\n",
        "\n",
        "for pts in contours:\n",
        "    # 너무 작은 객체는 제외\n",
        "    if cv2.contourArea(pts) < 10:\n",
        "        continue\n",
        "\n",
        "    # 외곽선 근사화\n",
        "    approx = cv2.approxPolyDP(pts, cv2.arcLength(pts, True)*0.02, True)\n",
        "\n",
        "    # 컨벡스가 아니면 제외\n",
        "    if not cv2.isContourConvex(approx) or len(approx) != 4:\n",
        "        continue\n",
        "\n",
        "    print(len(approx))\n",
        "\n",
        "    cv2.polylines(src, [approx], True, (0, 255, 0), 2, cv2.LINE_AA)\n",
        "    srcQuad = reorderPts(approx.reshape(4, 2).astype(np.float32))\n",
        "\n",
        "    pers = cv2.getPerspectiveTransform(srcQuad, dstQuad)\n",
        "    dst = cv2.warpPerspective(src, pers, (dw, dh), flags=cv2.INTER_CUBIC)\n",
        "\n",
        "    dst_rgb = cv2.cvtColor(dst, cv2.COLOR_BGR2RGB)\n",
        "\n",
        "cv2.imshow('src', src)\n",
        "cv2.imshow('src_gray', src_gray)\n",
        "cv2.imshow('src_bin', src_bin)\n",
        "cv2.imshow('dst', dst)\n",
        "cv2.waitKey()\n",
        "cv2.destroyAllWindows()"
      ],
      "execution_count": null,
      "outputs": []
    }
  ]
}