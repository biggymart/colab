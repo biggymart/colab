{
  "nbformat": 4,
  "nbformat_minor": 0,
  "metadata": {
    "colab": {
      "name": "autokeras.ipynb",
      "provenance": [],
      "collapsed_sections": [],
      "authorship_tag": "ABX9TyPWXxOEfX2AeAsl7PtTfGb7",
      "include_colab_link": true
    },
    "kernelspec": {
      "name": "python3",
      "display_name": "Python 3"
    },
    "language_info": {
      "name": "python"
    },
    "accelerator": "GPU"
  },
  "cells": [
    {
      "cell_type": "markdown",
      "metadata": {
        "id": "view-in-github",
        "colab_type": "text"
      },
      "source": [
        "<a href=\"https://colab.research.google.com/github/biggymart/colab/blob/main/autokeras.ipynb\" target=\"_parent\"><img src=\"https://colab.research.google.com/assets/colab-badge.svg\" alt=\"Open In Colab\"/></a>"
      ]
    },
    {
      "cell_type": "markdown",
      "metadata": {
        "id": "ez-98Ed7UltH"
      },
      "source": [
        "#**오토케라스**\n",
        "\n",
        "**들어가며**\n",
        "\n",
        "딥러닝에는 다양한 모델이 있는데, 그걸 다 손으로 일일히 확인해가는 일은 time-consuming할 뿐만 아니라 힘도 무지하게 든다. 다행히도 2020년도 초반에 나온 오토케라스 라이브러리를 활용하면 이 과정을 자동으로 할 수 있다.\n",
        "\n",
        "sci-kit learn처럼 모듈화되어 있어서 매우 짧은 코드로 많은 작업을 할 수 있다. 오토케라스에 대한 구체적인 설명 및 튜토리얼은 다음의 링크를 통해 확인하도록 하자:\n",
        "\n",
        "https://autokeras.com/tutorial/overview/\n",
        "\n",
        "본 문서는 오토케라스의 구체적인 내용은 다루지 않는다. 이 라이브러리를 당장 사용해보고 싶은 독자를 대상으로 작성되었다.\n",
        "\n",
        "---\n",
        "\n",
        "**목차**\n",
        "\n",
        "\n",
        "1.   autokeras 라이브러리 설치\n",
        "2.   autokeras 실행\n",
        "3.   모델 구조 확인 및 저장\n",
        "\n",
        "---\n",
        "\n",
        "NOTE> 코드 블럭을 확인할 때 `<change>`로 주석이 되어 있는 부분을 주목해서 읽도록 하자."
      ]
    },
    {
      "cell_type": "markdown",
      "metadata": {
        "id": "IJHqvyAi0IqN"
      },
      "source": [
        "#**1. autokeras 라이브러리 설치**\n",
        "\n",
        "**(1) .py 파일에서 작업하는 경우**\n",
        "\n",
        "**cmd**창에서 pip을 통해 autokeras를 설치한다:\n",
        "\n",
        "`pip install autokeras`\n",
        "\n",
        "성공적으로 다운로드 됐다면 다음과 같은 문구가 보인다:\n",
        "\n",
        "`Successfully installed autokeras-1.0.12 keras-tuner-1.0.2 tabulate-0.8.9 tensorflow-2.4.1 terminaltables-3.1.0`\n",
        "\n",
        "**(2) .ipynb 파일에서 작업하는 경우**\n",
        "\n",
        "`!pip install autokeras` 통해 autokeras를 설치하자.\n",
        "\n",
        "cf> 본 문서는 colab에서 ipynb 파일을 기준으로 작성되었다.\n"
      ]
    },
    {
      "cell_type": "markdown",
      "metadata": {
        "id": "7MsaIdLvVmXc"
      },
      "source": [
        "#**2. autokeras 실행**\n",
        "\n",
        "아래의 코드 블럭은 가장 간단한 형태의 모델이다.\n",
        "\n",
        "modeling 부분에서 주목할 점은 기존의 모델링과 달리 input shape을 명시하지 않고, 심지어 y 데이터를 One Hot Encoding하지 않아도 오류 없이 모델이 돌아간다는 부분이다. \n",
        "\n",
        "하이퍼파라미터 튜닝이라고는 할 것이 고작 max_trials를 조정하고 fit의 epochs를 조정하는 수준이다. 매우 간단하다.\n",
        "\n",
        "주의: 여러 가지 모델들을 실행하여 시간이 많이 소요되므로 max_trials와 epochs의 크기는 작게 설정하였다."
      ]
    },
    {
      "cell_type": "code",
      "metadata": {
        "colab": {
          "base_uri": "https://localhost:8080/"
        },
        "id": "3_CxgvZE247J",
        "outputId": "8129b850-3c18-4edd-d389-5639cb0da901"
      },
      "source": [
        "# autokeras101\n",
        "\n",
        "!pip install autokeras\n",
        "import numpy as np\n",
        "import tensorflow as tf\n",
        "import autokeras as ak\n",
        "from tensorflow.keras.datasets import mnist\n",
        "\n",
        "\n",
        "# 1. load data\n",
        "(x_train, y_train), (x_test, y_test) = mnist.load_data()\n",
        "\n",
        "x_train = x_train.reshape(60000, 28, 28, 1).astype('float32')/255.\n",
        "x_test = x_test.reshape(10000, 28, 28, 1).astype('float32')/255.\n",
        "\n",
        "# 2. modeling\n",
        "model = ak.ImageClassifier(\n",
        "    overwrite = True, # Input shape도 없고, OneHotEncoding 안 해도 돌아감\n",
        "    max_trials = 2  # 튜닝할 게 있다면 유일하게 이 부분\n",
        ")\n",
        "\n",
        "# 3. fit\n",
        "model.fit(x_train, y_train, epochs=3)\n",
        "\n",
        "# 4. evalute\n",
        "results = model.evaluate(x_test, y_test)\n",
        "print(results)"
      ],
      "execution_count": null,
      "outputs": [
        {
          "output_type": "stream",
          "text": [
            "Trial 2 Complete [00h 25m 50s]\n",
            "val_loss: 0.2786787450313568\n",
            "\n",
            "Best val_loss So Far: 0.04720625653862953\n",
            "Total elapsed time: 00h 26m 13s\n",
            "INFO:tensorflow:Oracle triggered exit\n",
            "Epoch 1/3\n",
            "1875/1875 [==============================] - 7s 4ms/step - loss: 0.2982 - accuracy: 0.9081\n",
            "Epoch 2/3\n",
            "1875/1875 [==============================] - 7s 4ms/step - loss: 0.0788 - accuracy: 0.9760\n",
            "Epoch 3/3\n",
            "1875/1875 [==============================] - 7s 4ms/step - loss: 0.0639 - accuracy: 0.9811\n",
            "INFO:tensorflow:Assets written to: ./image_classifier/best_model/assets\n",
            "313/313 [==============================] - 1s 3ms/step - loss: 0.0494 - accuracy: 0.9839\n",
            "[0.04941147565841675, 0.9839000105857849]\n"
          ],
          "name": "stdout"
        }
      ]
    },
    {
      "cell_type": "markdown",
      "metadata": {
        "id": "usaVBgAXYl9H"
      },
      "source": [
        "겨우 3 epochs만 수행했는데도 accuracy가 상당히 좋다. (필자의 경우, loss = 0.0494; acc = 0.9839 정도가 나왔다)\n",
        "\n",
        "일단 기본적인 구성은 알았으니, 모델 구색을 갖춰보도록 하자. 위 `autokeras101` 코드에 (1) OneHotEncoding (2) loss 및 metrics 명시 (3) callbacks 추가 해보도록 하겠다.\n",
        "\n",
        "주의: 본 문서에서 `EarlyStopping` 및 `ReduceLROnPlateau`에서 설정된 `patience` 값이 `epochs` 보다 크거나 같기 때문에 정상적으로 콜백이 작동하지 않는다. 여기서는 그저 이런 옵션을 넣을 수 있다는 점을 보여주기 위해서 콜백을 포함시켰을 뿐이다."
      ]
    },
    {
      "cell_type": "code",
      "metadata": {
        "id": "2a214ehGZ-hu"
      },
      "source": [
        "# autokeras102\n",
        "\n",
        "import numpy as np\n",
        "import tensorflow as tf\n",
        "import autokeras as ak\n",
        "from tensorflow.keras.utils import to_categorical\n",
        "from tensorflow.keras.datasets import mnist\n",
        "from tensorflow.keras.callbacks import EarlyStopping, ModelCheckpoint,\\\n",
        "    ReduceLROnPlateau\n",
        "\n",
        "(x_train, y_train), (x_test, y_test) = mnist.load_data()\n",
        "\n",
        "x_train = x_train.reshape(60000, 28, 28, 1).astype('float32')/255.\n",
        "x_test = x_test.reshape(10000, 28, 28, 1).astype('float32')/255.\n",
        "\n",
        "### <change_1> ###\n",
        "y_train = to_categorical(y_train)\n",
        "y_test = to_categorical(y_test)\n",
        "### </change_1> ###\n",
        "\n",
        "model = ak.ImageClassifier(\n",
        "    overwrite=True,\n",
        "    max_trials=2,\n",
        "    ### <change_2> ###\n",
        "    loss='mse',\n",
        "    metrics=['acc']\n",
        "    ### </change_2> ###\n",
        ")\n",
        "\n",
        "### <change_3> ###\n",
        "es = EarlyStopping(monitor='val_loss', mode='min', patience=6)\n",
        "lr = ReduceLROnPlateau(monitor='val_loss', patience=3, factor=0.5, verbose=2)\n",
        "ck = ModelCheckpoint('./temp/', save_best_only=True,\n",
        "    save_weights_only=True, monitor='val_loss', verbose=1\n",
        ")\n",
        "### </change_3> ###\n",
        "\n",
        "model.fit(x_train, y_train, epochs=3, validation_split=0.2, \n",
        "    callbacks=[es, lr, ck]\n",
        ")\n",
        "\n",
        "results = model.evaluate(x_test, y_test)\n",
        "print(results)"
      ],
      "execution_count": null,
      "outputs": []
    },
    {
      "cell_type": "markdown",
      "metadata": {
        "id": "MpbunhTea4Hz"
      },
      "source": [
        "#**3. 모델 구조 확인 및 저장**\n",
        "\n",
        "그런데 이렇게 만들어 놓고 보니, 모델의 구조를 확인하거나 모델을 저장해놓고 사용하면 정말 좋을 것 같다. 그래서 중간에 `model.summary()` 라던가 `model.save('path.h5')`를 사용해보면 어떨까?\n",
        "\n",
        "하지만 뜻밖에도 다음과 같은 에러를 보게 된다:\n",
        "\n",
        "`AttributeError: 'ImageClassifier' object has no attribute 'summary'`\n",
        "\n",
        "`AttributeError: 'ImageClassifier' object has no attribute 'save'`\n",
        "\n",
        "오토케라스의 모델을 h5 파일로 저장하거나 summary를 보기 위해선 먼저 다음과 같이 모델을 \"내보내야\"(export) 한다:\n",
        "\n",
        "`model.export_model()`"
      ]
    },
    {
      "cell_type": "code",
      "metadata": {
        "id": "6JXUY-ujcaec"
      },
      "source": [
        "# autokeras103\n",
        "\n",
        "import numpy as np\n",
        "import tensorflow as tf\n",
        "import autokeras as ak\n",
        "from tensorflow.keras.utils import to_categorical\n",
        "from tensorflow.keras.datasets import mnist\n",
        "from tensorflow.keras.callbacks import EarlyStopping, ModelCheckpoint,\\\n",
        "    ReduceLROnPlateau\n",
        "\n",
        "(x_train, y_train), (x_test, y_test) = mnist.load_data()\n",
        "\n",
        "x_train = x_train.reshape(60000, 28, 28, 1).astype('float32')/255.\n",
        "x_test = x_test.reshape(10000, 28, 28, 1).astype('float32')/255.\n",
        "\n",
        "y_train = to_categorical(y_train)\n",
        "y_test = to_categorical(y_test)\n",
        "\n",
        "model = ak.ImageClassifier(\n",
        "    overwrite=True,\n",
        "    max_trials=2,\n",
        "    loss='mse',\n",
        "    metrics=['acc']\n",
        ")\n",
        "\n",
        "es = EarlyStopping(monitor='val_loss', mode='min', patience=6)\n",
        "lr = ReduceLROnPlateau(monitor='val_loss', patience=3, factor=0.5, verbose=2)\n",
        "ck = ModelCheckpoint('./temp/', save_best_only=True,\n",
        "    save_weights_only=True, monitor='val_loss', verbose=1\n",
        ")\n",
        "\n",
        "model.fit(x_train, y_train, epochs=3, validation_split=0.2, \n",
        "    callbacks=[es, lr, ck]\n",
        ")\n",
        "\n",
        "results = model.evaluate(x_test, y_test)\n",
        "print(results)\n",
        "\n",
        "### <change_1> ###\n",
        "model2 = model.export_model()\n",
        "model2.save('path/to/save/model.h5')\n",
        "model2.summary()\n",
        "### </change_1> ###\n",
        "\n",
        "### <change_2> ###\n",
        "best_model = model.tuner.get_best_model()\n",
        "best_model.save('path/to/save/best_model.h5')\n",
        "### </change_2> ###"
      ],
      "execution_count": null,
      "outputs": []
    },
    {
      "cell_type": "markdown",
      "metadata": {
        "id": "TmoEhtDbjbMG"
      },
      "source": [
        "기존 `model` 모델과 구분하기 위해 변수명을 `model2`로 설정하였다. 위 코드를 실행하면 `model2`에 대해서 정상적으로 저장하고 요약을 출력해주는 걸 확인할 수 있다.\n",
        "\n",
        "\n",
        "---\n",
        "\n",
        "\n",
        "한편, 모델을 저장하긴 하는데 도대체 어떤 모델을 저장했는지에 대해서 궁금하다. 사실, `model.export_model()`을 통해서 내보내지는 모델은 여러 모델 중 가장 좋은 모델이다. `model.tuner.get_best_model()`을 통해 가장 좋은 모델을 저장하고 이전에 저장했던 모델과 비교해보면 이 사실을 알 수 있다.\n",
        "\n",
        "두 모델 비교는 아래 코드에서처럼 summary를 찍어보면 확인할 수 있다:"
      ]
    },
    {
      "cell_type": "code",
      "metadata": {
        "id": "qaLNatxxk9Kr"
      },
      "source": [
        "# keras104\n",
        "\n",
        "import numpy as np\n",
        "import tensorflow as tf\n",
        "import autokeras as ak\n",
        "from tensorflow.keras.utils import to_categorical\n",
        "from tensorflow.keras.datasets import mnist\n",
        "from tensorflow.keras.callbacks import EarlyStopping, ModelCheckpoint,\\\n",
        "    ReduceLROnPlateau\n",
        "from tensorflow.keras.models import load_model\n",
        "\n",
        "(x_train, y_train), (x_test, y_test) = mnist.load_data()\n",
        "\n",
        "x_train = x_train.reshape(60000, 28, 28, 1).astype('float32')/255.\n",
        "x_test = x_test.reshape(10000, 28, 28, 1).astype('float32')/255.\n",
        "\n",
        "y_train = to_categorical(y_train)\n",
        "y_test = to_categorical(y_test)\n",
        "\n",
        "### <change_1> ###\n",
        "model = load_model('path/to/save/model.h5')\n",
        "model.summary()\n",
        "\n",
        "best_model = load_model('path/to/save/best_model.h5')\n",
        "best_model.summary()\n",
        "\n",
        "results = model.evaluate(x_test, y_test)\n",
        "print(results)\n",
        "\n",
        "best_results = best_model.evaluate(x_test, y_test)\n",
        "print(best_results)\n",
        "### </change_1> ###"
      ],
      "execution_count": null,
      "outputs": []
    },
    {
      "cell_type": "markdown",
      "metadata": {
        "id": "aIxBSIMMmO3e"
      },
      "source": [
        "**마치며**\n",
        "\n",
        "위와 같이 초보자도 쉽게 사용할 수 있는 오토케라스의 활용법을 알아보았다. 짧은 코드로 많은 작업을 할 수 있는 \"갓성비\" 오토케라스를 많이 활용해보자."
      ]
    }
  ]
}