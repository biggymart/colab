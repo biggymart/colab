{
  "nbformat": 4,
  "nbformat_minor": 0,
  "metadata": {
    "colab": {
      "name": "baekjoon11047",
      "provenance": [],
      "collapsed_sections": [],
      "authorship_tag": "ABX9TyMcH4jrOqYe1vwITp96ggTQ",
      "include_colab_link": true
    },
    "kernelspec": {
      "name": "python3",
      "display_name": "Python 3"
    },
    "language_info": {
      "name": "python"
    }
  },
  "cells": [
    {
      "cell_type": "markdown",
      "metadata": {
        "id": "view-in-github",
        "colab_type": "text"
      },
      "source": [
        "<a href=\"https://colab.research.google.com/github/biggymart/colab/blob/main/baekjoon11047.ipynb\" target=\"_parent\"><img src=\"https://colab.research.google.com/assets/colab-badge.svg\" alt=\"Open In Colab\"/></a>"
      ]
    },
    {
      "cell_type": "markdown",
      "metadata": {
        "id": "ZKilp-TC7JlC"
      },
      "source": [
        "준규가 가지고 있는 동전은 총 N종류이고, 각각의 동전을 매우 많이 가지고 있다.\n",
        "\n",
        "동전을 적절히 사용해서 그 가치의 합을 K로 만들려고 한다. 이때 필요한 동전 개수의 최솟값을 구하는 프로그램을 작성하시오."
      ]
    },
    {
      "cell_type": "markdown",
      "metadata": {
        "id": "p3QUqRmT7Oe1"
      },
      "source": [
        "**입력**\n",
        "\n",
        "첫째 줄에 N과 K가 주어진다. (1 ≤ N ≤ 10, 1 ≤ K ≤ 100,000,000)\n",
        "\n",
        "둘째 줄부터 N개의 줄에 동전의 가치 Ai가 오름차순으로 주어진다. (1 ≤ Ai ≤ 1,000,000, A1 = 1, i ≥ 2인 경우에 Ai는 Ai-1의 배수)"
      ]
    },
    {
      "cell_type": "markdown",
      "metadata": {
        "id": "zfPLWafr7TQg"
      },
      "source": [
        "**출력**\n",
        "\n",
        "첫째 줄에 K원을 만드는데 필요한 동전 개수의 최솟값을 출력한다."
      ]
    },
    {
      "cell_type": "markdown",
      "metadata": {
        "id": "Rnk2sVlw7lSL"
      },
      "source": [
        "입력\n",
        "\n",
        "10 4200\n",
        "\n",
        "1\n",
        "5\n",
        "10\n",
        "50\n",
        "100\n",
        "500\n",
        "1000\n",
        "5000\n",
        "10000\n",
        "50000\n",
        "\n",
        "출력\n",
        "\n",
        "6"
      ]
    },
    {
      "cell_type": "code",
      "metadata": {
        "colab": {
          "base_uri": "https://localhost:8080/"
        },
        "id": "J0q4gcqn_Wtt",
        "outputId": "87e8c1e1-fcb8-4c10-80c0-b408ce483c7f"
      },
      "source": [
        "# 코랩 확인용\n",
        "line_len = 10\n",
        "target = 4200\n",
        "coins = [1, 5, 10, 50, 100, 500, 1000, 5000, 10000, 50000]\n",
        "\n",
        "coins_num = []\n",
        "for coin in reversed(coins):\n",
        "  coin_num = target // coin\n",
        "\n",
        "  if not coin_num == 0:\n",
        "    coins_num.append(coin_num)\n",
        "    target -= coin * coin_num\n",
        "    \n",
        "print(sum(coins_num))"
      ],
      "execution_count": null,
      "outputs": [
        {
          "output_type": "stream",
          "text": [
            "6\n"
          ],
          "name": "stdout"
        }
      ]
    },
    {
      "cell_type": "code",
      "metadata": {
        "colab": {
          "base_uri": "https://localhost:8080/",
          "height": 241
        },
        "id": "1VKNUvZ68IJM",
        "outputId": "5a20272c-7d70-4bfe-b519-75245a554f30"
      },
      "source": [
        "# 백준 입력 받아들여오기\n",
        "import sys\n",
        "first_line = sys.stdin.readline().rstrip()\n",
        "\n",
        "line_len, target = first_line.split()\n",
        "\n",
        "line_len = int(line_len)\n",
        "target = int(target)\n",
        "\n",
        "coins = []\n",
        "for i in range(line_len):\n",
        "  coin = int(sys.stdin.readline().rstrip())\n",
        "  coins.append(coin)"
      ],
      "execution_count": null,
      "outputs": [
        {
          "output_type": "error",
          "ename": "ValueError",
          "evalue": "ignored",
          "traceback": [
            "\u001b[0;31m---------------------------------------------------------------------------\u001b[0m",
            "\u001b[0;31mValueError\u001b[0m                                Traceback (most recent call last)",
            "\u001b[0;32m<ipython-input-4-edcae1f71378>\u001b[0m in \u001b[0;36m<module>\u001b[0;34m()\u001b[0m\n\u001b[1;32m      1\u001b[0m \u001b[0;31m# 백준 입력 받아들여오기\u001b[0m\u001b[0;34m\u001b[0m\u001b[0;34m\u001b[0m\u001b[0;34m\u001b[0m\u001b[0m\n\u001b[1;32m      2\u001b[0m \u001b[0;32mimport\u001b[0m \u001b[0msys\u001b[0m\u001b[0;34m\u001b[0m\u001b[0;34m\u001b[0m\u001b[0m\n\u001b[0;32m----> 3\u001b[0;31m \u001b[0mline_len\u001b[0m\u001b[0;34m,\u001b[0m \u001b[0mtarget\u001b[0m \u001b[0;34m=\u001b[0m \u001b[0msys\u001b[0m\u001b[0;34m.\u001b[0m\u001b[0mstdin\u001b[0m\u001b[0;34m.\u001b[0m\u001b[0mreadline\u001b[0m\u001b[0;34m(\u001b[0m\u001b[0;34m)\u001b[0m\u001b[0;34m.\u001b[0m\u001b[0mstrip\u001b[0m\u001b[0;34m(\u001b[0m\u001b[0;34m)\u001b[0m\u001b[0;34m\u001b[0m\u001b[0;34m\u001b[0m\u001b[0m\n\u001b[0m\u001b[1;32m      4\u001b[0m \u001b[0;34m\u001b[0m\u001b[0m\n\u001b[1;32m      5\u001b[0m \u001b[0mcoins\u001b[0m \u001b[0;34m=\u001b[0m \u001b[0;34m[\u001b[0m\u001b[0;34m]\u001b[0m\u001b[0;34m\u001b[0m\u001b[0;34m\u001b[0m\u001b[0m\n",
            "\u001b[0;31mValueError\u001b[0m: not enough values to unpack (expected 2, got 0)"
          ]
        }
      ]
    }
  ]
}