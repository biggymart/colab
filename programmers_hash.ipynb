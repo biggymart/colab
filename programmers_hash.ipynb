{
  "nbformat": 4,
  "nbformat_minor": 0,
  "metadata": {
    "colab": {
      "name": "programmers_hash",
      "provenance": [],
      "collapsed_sections": [],
      "authorship_tag": "ABX9TyNWG+TM8papwwB5AywvQ8Gr",
      "include_colab_link": true
    },
    "kernelspec": {
      "name": "python3",
      "display_name": "Python 3"
    },
    "language_info": {
      "name": "python"
    }
  },
  "cells": [
    {
      "cell_type": "markdown",
      "metadata": {
        "id": "view-in-github",
        "colab_type": "text"
      },
      "source": [
        "<a href=\"https://colab.research.google.com/github/biggymart/colab/blob/main/programmers_hash.ipynb\" target=\"_parent\"><img src=\"https://colab.research.google.com/assets/colab-badge.svg\" alt=\"Open In Colab\"/></a>"
      ]
    },
    {
      "cell_type": "code",
      "metadata": {
        "id": "Yotif2gif7p0"
      },
      "source": [
        "participant = [\"leo\", \"kiki\", \"eden\"]\n",
        "completion = [\"eden\", \"kiki\"]"
      ],
      "execution_count": null,
      "outputs": []
    },
    {
      "cell_type": "code",
      "metadata": {
        "colab": {
          "base_uri": "https://localhost:8080/"
        },
        "id": "3ushXfCOgG90",
        "outputId": "7b637bd7-d824-41d9-86ef-5f0f355f1e0f"
      },
      "source": [
        "import collections\n",
        "\n",
        "answer = collections.Counter(participant) - collections.Counter(completion)\n",
        "print(list(answer.keys())[0])"
      ],
      "execution_count": null,
      "outputs": [
        {
          "output_type": "stream",
          "text": [
            "leo\n"
          ],
          "name": "stdout"
        }
      ]
    },
    {
      "cell_type": "code",
      "metadata": {
        "id": "JHvE5ml-gPQS",
        "colab": {
          "base_uri": "https://localhost:8080/"
        },
        "outputId": "9572c555-abb4-44a6-91e5-f132cf246ff6"
      },
      "source": [
        "A={'11': 3, '10': 2, '12': 1} \n",
        "B={'11': 2}\n",
        "\n",
        "all(map(A.pop, B)) # use all() so it works for Python 2 and 3. \n",
        "print(A) # {'10': 2, '12': 1}"
      ],
      "execution_count": null,
      "outputs": [
        {
          "output_type": "stream",
          "text": [
            "{'10': 2, '12': 1}\n"
          ],
          "name": "stdout"
        }
      ]
    },
    {
      "cell_type": "code",
      "metadata": {
        "id": "wAqeF5RtitdP"
      },
      "source": [
        ""
      ],
      "execution_count": null,
      "outputs": []
    }
  ]
}