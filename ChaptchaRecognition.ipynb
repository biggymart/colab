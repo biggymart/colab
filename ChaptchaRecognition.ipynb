{
  "nbformat": 4,
  "nbformat_minor": 0,
  "metadata": {
    "colab": {
      "name": "ChaptchaRecognition.ipynb",
      "provenance": [],
      "authorship_tag": "ABX9TyO/CMKcIJYH3LqbH+oHrCYM",
      "include_colab_link": true
    },
    "kernelspec": {
      "name": "python3",
      "display_name": "Python 3"
    },
    "language_info": {
      "name": "python"
    }
  },
  "cells": [
    {
      "cell_type": "markdown",
      "metadata": {
        "id": "view-in-github",
        "colab_type": "text"
      },
      "source": [
        "<a href=\"https://colab.research.google.com/github/biggymart/colab/blob/main/ChaptchaRecognition.ipynb\" target=\"_parent\"><img src=\"https://colab.research.google.com/assets/colab-badge.svg\" alt=\"Open In Colab\"/></a>"
      ]
    },
    {
      "cell_type": "markdown",
      "metadata": {
        "id": "-Cap_Ftx4LpC"
      },
      "source": [
        "https://www.youtube.com/watch?v=IcLEJB2pY2Y&t=1052s\n",
        "\n",
        "Title: Captcha recognition using PyTorch (Convolutional-RNN + CTC Loss)\n",
        "\n",
        "Book: Approaching (Almost) Any Machine Learning Problem (Abhishek Thakur)"
      ]
    },
    {
      "cell_type": "code",
      "metadata": {
        "id": "0Sx8B7hawowI"
      },
      "source": [
        "# config.py\n",
        "\n",
        "DATA_DIR = '../input/captcha_images_v2'\n",
        "BATCH_SIZE = 8\n",
        "IMAGE_WIDTH = 300\n",
        "IMAGE_HEIGHT = 75\n",
        "NUM_WORKERS = 8\n",
        "EPOCHS = 200\n",
        "DEVICE = \"cuda\""
      ],
      "execution_count": null,
      "outputs": []
    },
    {
      "cell_type": "code",
      "metadata": {
        "id": "ap79ybadwHIg"
      },
      "source": [
        "import albumentations\n",
        "import torch\n",
        "import numpy as np\n",
        "\n",
        "from PIL import Image\n",
        "from PIL import ImageFile\n",
        "\n",
        "ImageFile.LOAD_TRUNCATED_IMAGES = True\n",
        "\n",
        "class Classification:\n",
        "  def __init__(self, image_paths, targets, resize=None):\n",
        "    self."
      ],
      "execution_count": null,
      "outputs": []
    }
  ]
}