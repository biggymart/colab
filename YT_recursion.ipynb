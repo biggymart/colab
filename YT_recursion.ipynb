{
  "nbformat": 4,
  "nbformat_minor": 0,
  "metadata": {
    "colab": {
      "name": "YT_recursion",
      "provenance": [],
      "collapsed_sections": [],
      "authorship_tag": "ABX9TyP5Sbd/JZFkOIylv3zqvBSB",
      "include_colab_link": true
    },
    "kernelspec": {
      "name": "python3",
      "display_name": "Python 3"
    },
    "language_info": {
      "name": "python"
    }
  },
  "cells": [
    {
      "cell_type": "markdown",
      "metadata": {
        "id": "view-in-github",
        "colab_type": "text"
      },
      "source": [
        "<a href=\"https://colab.research.google.com/github/biggymart/colab/blob/main/YT_recursion.ipynb\" target=\"_parent\"><img src=\"https://colab.research.google.com/assets/colab-badge.svg\" alt=\"Open In Colab\"/></a>"
      ]
    },
    {
      "cell_type": "code",
      "metadata": {
        "id": "HeGMzBTOn9Hn"
      },
      "source": [
        "def sum(numbers):\n",
        "  if not numbers:\n",
        "    return 0\n",
        "  print(\"Calling sum(%s)\" % numbers[1:])\n",
        "  remaining_sum = sum(numbers[1:])\n",
        "  print(\"Call to sum(%s) returning %d + %d\" % (numbers, numbers[0], remaining_sum))\n",
        "  return numbers[0] + remaining_sum\n",
        "\n",
        "print(sum([1, 2, 7, 9]))"
      ],
      "execution_count": null,
      "outputs": []
    }
  ]
}