{
  "nbformat": 4,
  "nbformat_minor": 0,
  "metadata": {
    "colab": {
      "name": "programmers_stockprice",
      "provenance": [],
      "collapsed_sections": [],
      "authorship_tag": "ABX9TyOtm3h3U/8RjakZdWCHCA/I",
      "include_colab_link": true
    },
    "kernelspec": {
      "name": "python3",
      "display_name": "Python 3"
    },
    "language_info": {
      "name": "python"
    }
  },
  "cells": [
    {
      "cell_type": "markdown",
      "metadata": {
        "id": "view-in-github",
        "colab_type": "text"
      },
      "source": [
        "<a href=\"https://colab.research.google.com/github/biggymart/colab/blob/main/programmers_stockprice.ipynb\" target=\"_parent\"><img src=\"https://colab.research.google.com/assets/colab-badge.svg\" alt=\"Open In Colab\"/></a>"
      ]
    },
    {
      "cell_type": "markdown",
      "metadata": {
        "id": "ObaLXp92XQ_T"
      },
      "source": [
        "prices\treturn\n",
        "\n",
        "[1, 2, 3, 2, 3]\t[4, 3, 1, 1, 0]"
      ]
    },
    {
      "cell_type": "code",
      "metadata": {
        "colab": {
          "base_uri": "https://localhost:8080/"
        },
        "id": "KFT5LUH-XLMl",
        "outputId": "9987bafb-137c-453c-dd96-7103865a7092"
      },
      "source": [
        "prices = [1, 2, 3, 2, 3]\n",
        "\n",
        "def solution(prices):\n",
        "  answer = []\n",
        "\n",
        "  for idx, price in enumerate(prices):\n",
        "    counter = 0\n",
        "    for other_prices in prices[idx+1:]:\n",
        "      if other_prices >= price:\n",
        "        counter += 1\n",
        "        if counter == len(prices[idx+1:]):\n",
        "          answer.append(counter)\n",
        "          counter = 0\n",
        "\n",
        "      else: # (other_prices < price)\n",
        "        counter += 1\n",
        "        answer.append(counter)\n",
        "        counter = 0\n",
        "        break\n",
        "\n",
        "  answer.append(0)\n",
        "\n",
        "  return answer\n",
        "\n",
        "a = solution(prices)\n",
        "print(a)"
      ],
      "execution_count": null,
      "outputs": [
        {
          "output_type": "stream",
          "text": [
            "[4, 3, 1, 1, 0]\n"
          ],
          "name": "stdout"
        }
      ]
    },
    {
      "cell_type": "code",
      "metadata": {
        "id": "Eks9uysxuInk"
      },
      "source": [
        "def solution(prices):\n",
        "    answer = [0] * len(prices)\n",
        "    for i in range(len(prices)):\n",
        "        for j in range(i+1, len(prices)):\n",
        "            if prices[i] <= prices[j]:\n",
        "                answer[i] += 1\n",
        "            else:\n",
        "                answer[i] += 1\n",
        "                break\n",
        "    return answer\n"
      ],
      "execution_count": null,
      "outputs": []
    }
  ]
}