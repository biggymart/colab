{
  "nbformat": 4,
  "nbformat_minor": 0,
  "metadata": {
    "colab": {
      "name": "ListComprehension.ipynb",
      "provenance": [],
      "authorship_tag": "ABX9TyOZBk5CeB+k72fpr1wXmD9+",
      "include_colab_link": true
    },
    "kernelspec": {
      "name": "python3",
      "display_name": "Python 3"
    },
    "language_info": {
      "name": "python"
    }
  },
  "cells": [
    {
      "cell_type": "markdown",
      "metadata": {
        "id": "view-in-github",
        "colab_type": "text"
      },
      "source": [
        "<a href=\"https://colab.research.google.com/github/biggymart/colab/blob/main/ListComprehension.ipynb\" target=\"_parent\"><img src=\"https://colab.research.google.com/assets/colab-badge.svg\" alt=\"Open In Colab\"/></a>"
      ]
    },
    {
      "cell_type": "markdown",
      "metadata": {
        "id": "bi0aLZ0yMbxa"
      },
      "source": [
        "# List Comprehension\n",
        "\n",
        "For illustration, a list of string is given.\n",
        "\n",
        "The final goal is to come up with a \"flattened list\" that contains all the characters in the original string list."
      ]
    },
    {
      "cell_type": "code",
      "metadata": {
        "id": "6xS65m3GMVYW"
      },
      "source": [
        "strlist_orig = [\"abcd\", \"efgh\"]"
      ],
      "execution_count": 1,
      "outputs": []
    },
    {
      "cell_type": "markdown",
      "metadata": {
        "id": "jtXBNrKYMlTf"
      },
      "source": [
        "# Step 1. Character splitted list\n",
        "\n",
        "First, we are going to make a list that splits all the characters for each element. Look at the code below."
      ]
    },
    {
      "cell_type": "code",
      "metadata": {
        "colab": {
          "base_uri": "https://localhost:8080/"
        },
        "id": "PFINRMa_NAsv",
        "outputId": "2a091da5-85fb-483f-b1af-2ab05f31dd9f"
      },
      "source": [
        "# Interpret list in a list from right to left\n",
        "# x in targest_orig == (1) abcd (2) efgh\n",
        "# c in x == (1) a (2) b (3) c (4) d; same for efgh\n",
        "\n",
        "\n",
        "targets = [[c for c in x] for x in strlist_orig]\n",
        "print(targets)\n",
        "# Thus, as you can see, the list in a list results in:\n",
        "# [['a', 'b', 'c', 'd'], ['e', 'f', 'g', 'h']]"
      ],
      "execution_count": 2,
      "outputs": [
        {
          "output_type": "stream",
          "text": [
            "[['a', 'b', 'c', 'd'], ['e', 'f', 'g', 'h']]\n"
          ],
          "name": "stdout"
        }
      ]
    },
    {
      "cell_type": "markdown",
      "metadata": {
        "id": "tVzZHWcvOmCw"
      },
      "source": [
        "# Step 2. Flattened list\n",
        "\n",
        "Now that we have a list that splitted all the characters in string lines, it's time to take all the characters into one \"flattened\" list. The code below has two versions."
      ]
    },
    {
      "cell_type": "code",
      "metadata": {
        "colab": {
          "base_uri": "https://localhost:8080/"
        },
        "id": "QvlNS2QQNQJK",
        "outputId": "b4a5ec96-c3de-49b0-8f95-1063aba39078"
      },
      "source": [
        "# Version 1. For loop style\n",
        "targets_flat = []\n",
        "for clist in targets:\n",
        "  # print(clist)\n",
        "  # ['a', 'b', 'c', 'd']\n",
        "  # ['e', 'f', 'g', 'h']\n",
        "  for c in clist:\n",
        "    targets_flat.append(c)\n",
        "print(targets_flat)\n",
        "# ['a', 'b', 'c', 'd', 'e', 'f', 'g', 'h']"
      ],
      "execution_count": 3,
      "outputs": [
        {
          "output_type": "stream",
          "text": [
            "['a', 'b', 'c', 'd', 'e', 'f', 'g', 'h']\n"
          ],
          "name": "stdout"
        }
      ]
    },
    {
      "cell_type": "markdown",
      "metadata": {
        "id": "4dSVF5eAPJ49"
      },
      "source": [
        "For brevity, however, it is highly recommended that you write a code in another fashion than a for loop. Here's how you can do that."
      ]
    },
    {
      "cell_type": "code",
      "metadata": {
        "colab": {
          "base_uri": "https://localhost:8080/"
        },
        "id": "8Zt5nUOONfHs",
        "outputId": "ff82c955-3e7c-45db-cabb-0acfa4a3cc11"
      },
      "source": [
        "# Version 2. List comprehension style\n",
        "targets_flat = [c for clist in targets for c in clist]\n",
        "print(targets_flat)\n",
        "# ['a', 'b', 'c', 'd', 'e', 'f', 'g', 'h']"
      ],
      "execution_count": 4,
      "outputs": [
        {
          "output_type": "stream",
          "text": [
            "['a', 'b', 'c', 'd', 'e', 'f', 'g', 'h']\n"
          ],
          "name": "stdout"
        }
      ]
    },
    {
      "cell_type": "markdown",
      "metadata": {
        "id": "xmDf65-MPfmZ"
      },
      "source": [
        "I hope this helps you to use list comprehension."
      ]
    }
  ]
}