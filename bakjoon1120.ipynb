{
  "nbformat": 4,
  "nbformat_minor": 0,
  "metadata": {
    "colab": {
      "name": "bakjoon1120",
      "provenance": [],
      "collapsed_sections": [],
      "authorship_tag": "ABX9TyMwvDk3YRf1w+eSZZ3n2yY9",
      "include_colab_link": true
    },
    "kernelspec": {
      "name": "python3",
      "display_name": "Python 3"
    },
    "language_info": {
      "name": "python"
    }
  },
  "cells": [
    {
      "cell_type": "markdown",
      "metadata": {
        "id": "view-in-github",
        "colab_type": "text"
      },
      "source": [
        "<a href=\"https://colab.research.google.com/github/biggymart/colab/blob/main/bakjoon1120.ipynb\" target=\"_parent\"><img src=\"https://colab.research.google.com/assets/colab-badge.svg\" alt=\"Open In Colab\"/></a>"
      ]
    },
    {
      "cell_type": "code",
      "metadata": {
        "id": "HW_OPjCxPcul"
      },
      "source": [
        "Given_string = \"adaabc aababbc\"\n",
        "str_lst = Given_string.split()\n",
        "\n",
        "A = str_lst[0]\n",
        "B = str_lst[1]"
      ],
      "execution_count": null,
      "outputs": []
    },
    {
      "cell_type": "code",
      "metadata": {
        "colab": {
          "base_uri": "https://localhost:8080/"
        },
        "id": "cpX_HrxPPkB6",
        "outputId": "4f5083cd-f33c-4e30-882e-02db42ed04be"
      },
      "source": [
        "# slice the B as the size of A for the comparison of match btwn the two strings\n",
        "best_idx = 0\n",
        "best_match = 0\n",
        "for i in range(0, len(B) - len(A) +1):\n",
        "  print(\"Index to compare the two strings :\", i)\n",
        "\n",
        "  # slice the B as the size of A\n",
        "  B_comparison = B[i:i+len(A)]\n",
        "  print(\"A : %-10s\" % A)\n",
        "  print(\"B comparison : %-10s\" % B_comparison)\n",
        "  \n",
        "  # calculate the match of chars btwn the two strings\n",
        "  match = 0\n",
        "  for idx, char in enumerate(B_comparison):\n",
        "    if char == A[idx]:\n",
        "      match += 1\n",
        "    else:\n",
        "      continue\n",
        "  print(\"The char match at idx %d is %d\" % (i, match))\n",
        "  print(\"==============================\")\n",
        "\n",
        "  # check if the match is the maximum, and update best_match\n",
        "  if match > best_match:\n",
        "    best_match = match\n",
        "    best_idx = i\n",
        "\n",
        "print(\"Best match:\", best_match)\n",
        "print(\"Best idx:\", best_idx)"
      ],
      "execution_count": null,
      "outputs": [
        {
          "output_type": "stream",
          "text": [
            "Index to compare the two strings : 0\n",
            "A : adaabc    \n",
            "B comparison : aababb    \n",
            "The char match at idx 0 is 3\n",
            "==============================\n",
            "Index to compare the two strings : 1\n",
            "A : adaabc    \n",
            "B comparison : ababbc    \n",
            "The char match at idx 1 is 4\n",
            "==============================\n",
            "Best match: 4\n",
            "Best idx: 1\n"
          ],
          "name": "stdout"
        }
      ]
    },
    {
      "cell_type": "code",
      "metadata": {
        "colab": {
          "base_uri": "https://localhost:8080/"
        },
        "id": "DdXoH4qHP0DV",
        "outputId": "6a55d108-f0b2-4314-eda4-90a36fe10844"
      },
      "source": [
        "# This code is not required by the question\n",
        "# But for the sake of practicing, let's get down to it\n",
        "\n",
        "# Make string A match string B\n",
        "\n",
        "# place A at the best_idx and then fill in the mismatch with B\n",
        "# fill the left side with zeros\n",
        "fill_left_width = len(A) + best_idx\n",
        "fill_left_A = A.rjust(fill_left_width, '0')\n",
        "print(\"Left side filled A: %s\" % fill_left_A)\n",
        "\n",
        "# fill the right side with zeros\n",
        "padded_A = fill_left_A.ljust(len(B), '0')\n",
        "print(\"Right side filled A: %s\" % padded_A)\n",
        "\n",
        "# make the string into list and modify it\n",
        "\n",
        "lst_padded_A = list(padded_A)\n",
        "\n",
        "for idx, char in enumerate(lst_padded_A):\n",
        "  if char == '0':\n",
        "    lst_padded_A[idx] = B[idx]\n",
        "\n",
        "answer = ''.join(lst_padded_A)\n",
        "print(\"Final transition:\", answer)"
      ],
      "execution_count": null,
      "outputs": [
        {
          "output_type": "stream",
          "text": [
            "Left side filled A: 0adaabc\n",
            "Right side filled A: 0adaabc\n",
            "Final transition: aadaabc\n"
          ],
          "name": "stdout"
        }
      ]
    }
  ]
}